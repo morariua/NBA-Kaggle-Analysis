{
 "cells": [
  {
   "cell_type": "code",
   "execution_count": 40,
   "metadata": {},
   "outputs": [],
   "source": [
    "import pandas as pd \n",
    "import numpy as np\n",
    "import matplotlib.pyplot as plt\n",
    "import seaborn as sns\n",
    "\n",
    "\n",
    "games_df = pd.read_csv('NBA/games.csv')\n",
    "game_deets_df = pd.read_csv('NBA/games_details.csv', low_memory=False)\n",
    "players_df = pd.read_csv('NBA/players.csv')\n",
    "ranking_df = pd.read_csv('NBA/ranking.csv')\n",
    "teams_df = pd.read_csv('NBA/teams.csv')\n",
    "games_df['GAME_DATE_EST']= pd.to_datetime(games_df['GAME_DATE_EST'])\n",
    "pd.set_option('display.max_columns',21)\n",
    "\n"
   ]
  },
  {
   "cell_type": "code",
   "execution_count": 48,
   "metadata": {},
   "outputs": [
    {
     "name": "stdout",
     "output_type": "stream",
     "text": [
      "HOME_TEAM_WINS\n",
      "1    58.703238\n",
      "0    41.296762\n",
      "Name: count, dtype: float64\n",
      "103.45589786080144 100.63987646881591\n"
     ]
    },
    {
     "data": {
      "image/png": "[encoded data removed]",
      "text/plain": [
       "<Figure size 640x480 with 1 Axes>"
      ]
     },
     "metadata": {},
     "output_type": "display_data"
    }
   ],
   "source": [
    "#data visualization \n",
    "home_wins = games_df['HOME_TEAM_WINS'].value_counts()/len(games_df) * 100\n",
    "print(home_wins)\n",
    "\n",
    "wl_group = games_df.groupby(['HOME_TEAM_WINS'])\n",
    "\n",
    "win_filt = wl_group.get_group(1)\n",
    "lose_filt = wl_group.get_group(0)\n",
    "\n",
    "x = win_filt['HOME_TEAM_WINS'].value_counts()\n",
    "y = lose_filt['HOME_TEAM_WINS'].value_counts()\n",
    "\n",
    "ti = [0.5]\n",
    "hor = np.arange(len(ti))\n",
    "\n",
    "plt.bar(ti,x,width = 0.25,color = 'red',label = 'Home Games')\n",
    "plt.bar(hor + 0.75,y,width = 0.25,color = 'blue',label = 'Away Games')\n",
    "\n",
    "plt.ylabel('Number of Wins')\n",
    "plt.xticks(color = 'w')\n",
    "plt.title('Win comparison between Home and Away Games')\n",
    "plt.legend()\n",
    "\n",
    "#the graph shows that home teams have a higher chance of winning than away teams which can be due to the some of the following: \n",
    "#1. Home teams have more fans and support\n",
    "#2. Home teams are more familiar with the court and the environment\n",
    "#3. Home teams have less travel time and are more rested\n",
    "\n",
    "#let us examine this further by looking at the average points scored by home and away teams \n",
    "\n",
    "def get_mean(df, col): \n",
    "    return df[col].mean()\n",
    "def get_mean_2(df, first, seoncd): \n",
    "    return (df[first]/df[seoncd]).mean()\n",
    "def get_mode(df, col):\n",
    "    return df[col].mode()\n",
    "\n",
    "home_points = get_mean(games_df,'PTS_home')\n",
    "away_points = get_mean(games_df,'PTS_away')\n",
    "print(home_points, away_points)\n"
   ]
  },
  {
   "cell_type": "code",
   "execution_count": 51,
   "metadata": {},
   "outputs": [
    {
     "name": "stdout",
     "output_type": "stream",
     "text": [
      "       GAME_ID2  Defensive_Stops_Home  Defensive_Stops_Away\n",
      "0      22200477                   NaN                   NaN\n",
      "1      22200478                   NaN                   NaN\n",
      "2      22200466                   NaN                   NaN\n",
      "3      22200467                   NaN                   NaN\n",
      "4      22200468                   NaN                   NaN\n",
      "...         ...                   ...                   ...\n",
      "26646  11400007                   NaN                   NaN\n",
      "26647  11400004                   NaN                   NaN\n",
      "26648  11400005                   NaN                   NaN\n",
      "26649  11400002                   NaN                   NaN\n",
      "26650  11400001                   NaN                   NaN\n",
      "\n",
      "[26651 rows x 3 columns]\n"
     ]
    }
   ],
   "source": [
    "games_df.dropna()\n",
    "\n",
    "# Merge the games_df and game_deets_df\n",
    "games_df = games_df.rename(columns={'GAME_ID': 'GAME_ID2'})\n",
    "game_deets_df = game_deets_df.rename(columns={'GAME_ID': 'GAME_ID2'})\n",
    "# Rename the necessary columns in game_deets_df\n",
    "\n",
    "# Group game_deets_df by GAME_ID2 and calculate the sum of defensive stats\n",
    "defensive_stats = game_deets_df.groupby('GAME_ID2').agg({\n",
    "    'FGA2': 'sum',\n",
    "    'FGM2': 'sum',\n",
    "    'FTA2': 'sum',\n",
    "    'FTM2': 'sum',\n",
    "    'TO2': 'sum',\n",
    "    'BLK2': 'sum',\n",
    "    'STL2': 'sum'\n",
    "}).reset_index()\n",
    "\n",
    "# Merge the defensive_stats with games_df\n",
    "games_df = pd.merge(games_df, defensive_stats, on='GAME_ID2', how='left')\n",
    "\n",
    "# Calculate the defensive stops for home and away games\n",
    "games_df['Defensive_Stops_Home'] = (games_df['Opponent_FGA'] - games_df['Opponent_FGM']) + (games_df['Opponent_FTA'] - games_df['Opponent_FTM']) + games_df['Opponent_TO'] + games_df['Opponent_BLK'] + games_df['Opponent_STL']\n",
    "games_df['Defensive_Stops_Away'] = (games_df['Opponent_FGA'] - games_df['Opponent_FGM']) + (games_df['Opponent_FTA'] - games_df['Opponent_FTM']) + games_df['Opponent_TO'] + games_df['Opponent_BLK'] + games_df['Opponent_STL']\n",
    "\n",
    "# Print the results\n",
    "print(games_df[['GAME_ID2', 'Defensive_Stops_Home', 'Defensive_Stops_Away']])\n",
    "\n",
    "#let us calculate the defensive stops for each team on home games and away games for each team \n",
    "\n",
    "\n",
    "\n"
   ]
  },
  {
   "cell_type": "code",
   "execution_count": 14,
   "metadata": {},
   "outputs": [
    {
     "data": {
      "text/plain": [
       "545"
      ]
     },
     "execution_count": 14,
     "metadata": {},
     "output_type": "execute_result"
    }
   ],
   "source": []
  }
 ],
 "metadata": {
  "kernelspec": {
   "display_name": "Python 3",
   "language": "python",
   "name": "python3"
  },
  "language_info": {
   "codemirror_mode": {
    "name": "ipython",
    "version": 3
   },
   "file_extension": ".py",
   "mimetype": "text/x-python",
   "name": "python",
   "nbconvert_exporter": "python",
   "pygments_lexer": "ipython3",
   "version": "3.10.12"
  },
  "orig_nbformat": 4
 },
 "nbformat": 4,
 "nbformat_minor": 2
}
